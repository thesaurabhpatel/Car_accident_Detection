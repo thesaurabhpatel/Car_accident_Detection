{
  "nbformat": 4,
  "nbformat_minor": 0,
  "metadata": {
    "colab": {
      "name": "Car_Crash_1.ipynb",
      "version": "0.3.2",
      "provenance": [],
      "collapsed_sections": []
    },
    "kernelspec": {
      "name": "python3",
      "display_name": "Python 3"
    },
    "accelerator": "GPU"
  },
  "cells": [
    {
      "cell_type": "code",
      "metadata": {
        "id": "nR1E05etFVau",
        "colab_type": "code",
        "outputId": "f44f3cce-9887-414d-95a5-3555209cb19a",
        "colab": {
          "base_uri": "https://localhost:8080/",
          "height": 658
        }
      },
      "source": [
        "!pip install --upgrade pip > /dev/null\n",
        "!pip install scikit-image==0.14.2\n",
        "!pip install opencv-python==3.4.0.12"
      ],
      "execution_count": 0,
      "outputs": [
        {
          "output_type": "stream",
          "text": [
            "Collecting scikit-image==0.14.2\n",
            "\u001b[?25l  Downloading https://files.pythonhosted.org/packages/24/06/d560630eb9e36d90d69fe57d9ff762d8f501664ce478b8a0ae132b3c3008/scikit_image-0.14.2-cp36-cp36m-manylinux1_x86_64.whl (25.3MB)\n",
            "\u001b[K     |████████████████████████████████| 25.3MB 61.1MB/s \n",
            "\u001b[?25hRequirement already satisfied: cloudpickle>=0.2.1 in /usr/local/lib/python3.6/dist-packages (from scikit-image==0.14.2) (0.6.1)\n",
            "Requirement already satisfied: scipy>=0.17.0 in /usr/local/lib/python3.6/dist-packages (from scikit-image==0.14.2) (1.3.0)\n",
            "Requirement already satisfied: six>=1.10.0 in /usr/local/lib/python3.6/dist-packages (from scikit-image==0.14.2) (1.12.0)\n",
            "Requirement already satisfied: matplotlib>=2.0.0 in /usr/local/lib/python3.6/dist-packages (from scikit-image==0.14.2) (3.0.3)\n",
            "Requirement already satisfied: PyWavelets>=0.4.0 in /usr/local/lib/python3.6/dist-packages (from scikit-image==0.14.2) (1.0.3)\n",
            "Requirement already satisfied: networkx>=1.8 in /usr/local/lib/python3.6/dist-packages (from scikit-image==0.14.2) (2.3)\n",
            "Requirement already satisfied: pillow>=4.3.0 in /usr/local/lib/python3.6/dist-packages (from scikit-image==0.14.2) (4.3.0)\n",
            "Requirement already satisfied: dask[array]>=1.0.0 in /usr/local/lib/python3.6/dist-packages (from scikit-image==0.14.2) (1.1.5)\n",
            "Requirement already satisfied: numpy>=1.13.3 in /usr/local/lib/python3.6/dist-packages (from scipy>=0.17.0->scikit-image==0.14.2) (1.16.4)\n",
            "Requirement already satisfied: cycler>=0.10 in /usr/local/lib/python3.6/dist-packages (from matplotlib>=2.0.0->scikit-image==0.14.2) (0.10.0)\n",
            "Requirement already satisfied: pyparsing!=2.0.4,!=2.1.2,!=2.1.6,>=2.0.1 in /usr/local/lib/python3.6/dist-packages (from matplotlib>=2.0.0->scikit-image==0.14.2) (2.4.0)\n",
            "Requirement already satisfied: python-dateutil>=2.1 in /usr/local/lib/python3.6/dist-packages (from matplotlib>=2.0.0->scikit-image==0.14.2) (2.5.3)\n",
            "Requirement already satisfied: kiwisolver>=1.0.1 in /usr/local/lib/python3.6/dist-packages (from matplotlib>=2.0.0->scikit-image==0.14.2) (1.1.0)\n",
            "Requirement already satisfied: decorator>=4.3.0 in /usr/local/lib/python3.6/dist-packages (from networkx>=1.8->scikit-image==0.14.2) (4.4.0)\n",
            "Requirement already satisfied: olefile in /usr/local/lib/python3.6/dist-packages (from pillow>=4.3.0->scikit-image==0.14.2) (0.46)\n",
            "Requirement already satisfied: toolz>=0.7.3; extra == \"array\" in /usr/local/lib/python3.6/dist-packages (from dask[array]>=1.0.0->scikit-image==0.14.2) (0.10.0)\n",
            "Requirement already satisfied: setuptools in /usr/local/lib/python3.6/dist-packages (from kiwisolver>=1.0.1->matplotlib>=2.0.0->scikit-image==0.14.2) (41.0.1)\n",
            "\u001b[31mERROR: albumentations 0.1.12 has requirement imgaug<0.2.7,>=0.2.5, but you'll have imgaug 0.2.9 which is incompatible.\u001b[0m\n",
            "Installing collected packages: scikit-image\n",
            "  Found existing installation: scikit-image 0.15.0\n",
            "    Uninstalling scikit-image-0.15.0:\n",
            "      Successfully uninstalled scikit-image-0.15.0\n",
            "Successfully installed scikit-image-0.14.2\n",
            "Collecting opencv-python==3.4.0.12\n",
            "\u001b[?25l  Downloading https://files.pythonhosted.org/packages/50/f9/5c454f0f52788a913979877e6ed9b2454a9c7676581a0ee3a2d81db784a6/opencv_python-3.4.0.12-cp36-cp36m-manylinux1_x86_64.whl (24.9MB)\n",
            "\u001b[K     |████████████████████████████████| 24.9MB 1.9MB/s \n",
            "\u001b[?25hRequirement already satisfied: numpy>=1.11.3 in /usr/local/lib/python3.6/dist-packages (from opencv-python==3.4.0.12) (1.16.4)\n",
            "\u001b[31mERROR: dopamine-rl 1.0.5 has requirement opencv-python>=3.4.1.15, but you'll have opencv-python 3.4.0.12 which is incompatible.\u001b[0m\n",
            "\u001b[31mERROR: albumentations 0.1.12 has requirement imgaug<0.2.7,>=0.2.5, but you'll have imgaug 0.2.9 which is incompatible.\u001b[0m\n",
            "Installing collected packages: opencv-python\n",
            "  Found existing installation: opencv-python 3.4.5.20\n",
            "    Uninstalling opencv-python-3.4.5.20:\n",
            "      Successfully uninstalled opencv-python-3.4.5.20\n",
            "Successfully installed opencv-python-3.4.0.12\n"
          ],
          "name": "stdout"
        }
      ]
    },
    {
      "cell_type": "code",
      "metadata": {
        "id": "4hoXeDl7Ftv3",
        "colab_type": "code",
        "colab": {}
      },
      "source": [
        "import cv2\n",
        "\n",
        "from skimage.color import rgb2gray\n",
        "from skimage.transform import resize\n",
        "\n",
        "import matplotlib.pyplot as plt\n",
        "import math"
      ],
      "execution_count": 0,
      "outputs": []
    },
    {
      "cell_type": "code",
      "metadata": {
        "id": "CM5NCGzqGEup",
        "colab_type": "code",
        "outputId": "73d0b6cc-2cb7-4c9a-9c6f-26b01ec67934",
        "colab": {
          "base_uri": "https://localhost:8080/",
          "height": 138
        }
      },
      "source": [
        "# Check is Link to Drive is OK\n",
        "google = !if [ -d 'GDrive/' ]; then echo \"1\" ; else echo \"0\"; fi\n",
        "if (google[0] is '0' ):\n",
        "  from google.colab import drive\n",
        "  drive.mount('/content/GDrive/')\n",
        "!if [ -d 'GDrive/' ]; then echo \"Connection to Google drive successful\" ; else echo \"Error to connect to Google drive\"; fi"
      ],
      "execution_count": 0,
      "outputs": [
        {
          "output_type": "stream",
          "text": [
            "Go to this URL in a browser: https://accounts.google.com/o/oauth2/auth?client_id=947318989803-6bn6qk8qdgf4n4g3pfee6491hc0brc4i.apps.googleusercontent.com&redirect_uri=urn%3Aietf%3Awg%3Aoauth%3A2.0%3Aoob&scope=email%20https%3A%2F%2Fwww.googleapis.com%2Fauth%2Fdocs.test%20https%3A%2F%2Fwww.googleapis.com%2Fauth%2Fdrive%20https%3A%2F%2Fwww.googleapis.com%2Fauth%2Fdrive.photos.readonly%20https%3A%2F%2Fwww.googleapis.com%2Fauth%2Fpeopleapi.readonly&response_type=code\n",
            "\n",
            "Enter your authorization code:\n",
            "··········\n",
            "Mounted at /content/GDrive/\n",
            "Connection to Google drive successful\n"
          ],
          "name": "stdout"
        }
      ]
    },
    {
      "cell_type": "code",
      "metadata": {
        "id": "UI1qEG-eIL5y",
        "colab_type": "code",
        "colab": {}
      },
      "source": [
        "# Make a temporarty directory in Google colab\n",
        "!mkdir -p /content/CarCrashDetection/Sources/frames > /dev/null\n",
        "\n",
        "# Recomended to download and copy mp4 video in your Google Drive.\n",
        "# Directory tree structure in Google drive\n",
        "#      / ──┐\n",
        "#          └─ /CarCrashDetection ──┐\n",
        "#                                  ├─ videofile\n",
        "#                                  └─ /frames \n",
        "\n",
        "# copy video stored in Google Drive /CarCrashDetection/Sources/   to Colab\n",
        "!cp GDrive/My\\ Drive/CarCrashDetection/Sources/*.mp4 CarCrashDetection/Sources/"
      ],
      "execution_count": 0,
      "outputs": []
    },
    {
      "cell_type": "code",
      "metadata": {
        "id": "ajPdgUNfIWjl",
        "colab_type": "code",
        "outputId": "35c6615d-ec40-48a2-fc73-cf9536687661",
        "colab": {
          "base_uri": "https://localhost:8080/",
          "height": 34
        }
      },
      "source": [
        "INPUT_VIDEOS_PATH = '/content/CarCrashDetection/Sources'              # Path to folder with videos \n",
        "OUTPUT_FRAMES_PATH = '/content/CarCrashDetection/Sources/frames'      # Location of extracted images\n",
        "\n",
        "frame_name = 'frame'                                                  # Frame name       \n",
        "one_frame_each = 4                                                    # Extract one frame each 70\n",
        "\n",
        "!if [ -d {OUTPUT_FRAMES_PATH} ]; then echo \"Output to be stored in \"{OUTPUT_FRAMES_PATH} ; else mkdir {OUTPUT_FRAMES_PATH} && echo \"Output directory created\"; fi\n",
        "\n",
        "files = !ls {INPUT_VIDEOS_PATH}/*.mp4                                 # Video file names in INPUT VIDEOS PATH\n",
        "videofile = files[0]                                                  # Refactor of variable 'files' to convert the first video of list"
      ],
      "execution_count": 0,
      "outputs": [
        {
          "output_type": "stream",
          "text": [
            "Output to be stored in /content/CarCrashDetection/Sources/frames\n"
          ],
          "name": "stdout"
        }
      ]
    },
    {
      "cell_type": "code",
      "metadata": {
        "id": "bzP5v8TrKwYp",
        "colab_type": "code",
        "outputId": "869ead52-61c3-4dd7-82be-442ba8da2ee3",
        "colab": {
          "base_uri": "https://localhost:8080/",
          "height": 87
        }
      },
      "source": [
        "count = 0\n",
        "success = True\n",
        "\n",
        "vidcap = cv2.VideoCapture(videofile)\n",
        "\n",
        "while success:\n",
        "    if (count%one_frame_each == 0):                                   # checks frame number and keeps one_frame_each          \n",
        "        success,image = vidcap.read()                                 # reads next frame           \n",
        "        image_gray = rgb2gray(image)                                  # grayscale image\n",
        "        if image.shape[1]>640:                                        # if image width > 640, resize it\n",
        "          tmp = resize(image_gray, (math.floor(640 / image_gray.shape[1] * image_gray.shape[0]), 640),mode='constant')\n",
        "        plt.imsave(\"%s/%s%d.png\" % (OUTPUT_FRAMES_PATH,frame_name, count), tmp, cmap= plt.cm.gray) # saves images to frame folder\n",
        "        print ('*', end=\"\")\n",
        "    else:\n",
        "        success,image = vidcap.read()                                 # reads next frame\n",
        "    count += 1                                                        # loops counter"
      ],
      "execution_count": 0,
      "outputs": [
        {
          "output_type": "stream",
          "text": [
            "/usr/local/lib/python3.6/dist-packages/skimage/transform/_warps.py:110: UserWarning: Anti-aliasing will be enabled by default in skimage 0.15 to avoid aliasing artifacts when down-sampling images.\n",
            "  warn(\"Anti-aliasing will be enabled by default in skimage 0.15 to \"\n"
          ],
          "name": "stderr"
        },
        {
          "output_type": "stream",
          "text": [
            "***********************************************************************************************************************************************************************************************************************************************************************************************************************************************************************************************************************************************************************************************************************************************************************************************************************************************************************************************************************************************"
          ],
          "name": "stdout"
        }
      ]
    },
    {
      "cell_type": "code",
      "metadata": {
        "id": "XpoJjlQeK5dC",
        "colab_type": "code",
        "colab": {}
      },
      "source": [
        "!cp CarCrashDetection/Sources/frames/* GDrive/My\\ Drive/CarCrashDetection/Sources/frames"
      ],
      "execution_count": 0,
      "outputs": []
    },
    {
      "cell_type": "code",
      "metadata": {
        "id": "acUrrbiiLbaz",
        "colab_type": "code",
        "colab": {}
      },
      "source": [
        "!ls GDrive/My\\ Drive/CarCrashDetection/Sources/frames"
      ],
      "execution_count": 0,
      "outputs": []
    },
    {
      "cell_type": "code",
      "metadata": {
        "id": "Cc6jSXozLyVn",
        "colab_type": "code",
        "colab": {}
      },
      "source": [
        "import random                           # Generates random numbers\n",
        "import os                               # Create directories, list files\n",
        "\n",
        "from shutil import copyfile             # Copy files from Source to Destination\n",
        "\n",
        "import cv2                              # To flip images in data augmentation\n",
        "import matplotlib.pyplot as plt         # To save the images\n",
        "import matplotlib.image as mpimg"
      ],
      "execution_count": 0,
      "outputs": []
    },
    {
      "cell_type": "code",
      "metadata": {
        "id": "wYNHEyouMI_1",
        "colab_type": "code",
        "colab": {}
      },
      "source": [
        "!if [ -d 'GDrive/My Drive/CarCrashDetection/Dataset/train' ]; then echo \"Directory train already exist\" ; else mkdir 'GDrive/My Drive/CarCrashDetection/Dataset/train' && echo \"Directory train created\"; fi\n",
        "!if [ -d 'GDrive/My Drive/CarCrashDetection/Dataset/valid' ]; then echo \"Directory valid already exist\" ; else mkdir 'GDrive/My Drive/CarCrashDetection/Dataset/valid' && echo \"Directory valid created\"; fi\n",
        "!if [ -d 'GDrive/My Drive/CarCrashDetection/Dataset/tmp' ]; then echo \"Directory tmp already exist\" ; else mkdir 'GDrive/My Drive/CarCrashDetection/Dataset/tmp' && echo \"Directory tmp created\"; fi\n",
        "print (\"\")\n",
        "print (os.listdir(\"GDrive/My Drive/CarCrashDetection/Dataset/\"))\n",
        "print (\"\")\n",
        "!if [ -d 'GDrive/My Drive/CarCrashDetection/Dataset/train/accident' ]; then echo \"Directory accident in train already exist\" ; else mkdir 'GDrive/My Drive/CarCrashDetection/Dataset/train/accident' && echo \"Directory accident in train created\"; fi\n",
        "!if [ -d 'GDrive/My Drive/CarCrashDetection/Dataset/train/no_accident' ]; then echo \"Directory no_accident in train already exist\" ; else mkdir 'GDrive/My Drive/CarCrashDetection/Dataset/train/no_accident' && echo \"Directory no_accident in train created\"; fi\n",
        "!if [ -d 'GDrive/My Drive/CarCrashDetection/Dataset/valid/accident' ]; then echo \"Directory accident in valid already exist\" ; else mkdir 'GDrive/My Drive/CarCrashDetection/Dataset/valid/accident' && echo \"Directory accident in valid created\"; fi\n",
        "!if [ -d 'GDrive/My Drive/CarCrashDetection/Dataset/valid/no_accident' ]; then echo \"Directory no_accident in valid already exist\" ; else mkdir 'GDrive/My Drive/CarCrashDetection/Dataset/valid/no_accident' && echo \"Directory no_accident in valid created\"; fi\n",
        "print (\"\")\n",
        "print (\"Deleting folder content train accident\")\n",
        "!rm GDrive/My\\ Drive/CarCrashDetection/Dataset/train/accident/* > /dev/null\n",
        "print (\"Deleting folder content train no_accident\")\n",
        "!rm GDrive/My\\ Drive/CarCrashDetection/Dataset/train/no_accident/* > /dev/null\n",
        "print (\"Deleting folder content valid accident\")\n",
        "!rm GDrive/My\\ Drive/CarCrashDetection/Dataset/valid/accident/* > /dev/null\n",
        "print (\"Deleting folder content valid no_accident\")\n",
        "!rm GDrive/My\\ Drive/CarCrashDetection/Dataset/valid/no_accident/* > /dev/null"
      ],
      "execution_count": 0,
      "outputs": []
    },
    {
      "cell_type": "code",
      "metadata": {
        "id": "IrNPZMbcMUHT",
        "colab_type": "code",
        "colab": {}
      },
      "source": [
        "PATH = 'GDrive/My\\ Drive/CarCrashDetection/Sources/frames'\n",
        "filenames_accident = os.listdir (\"GDrive/My Drive/CarCrashDetection/Sources/frames/accident\")\n",
        "\n",
        "print (os.listdir('GDrive/My Drive/CarCrashDetection/Sources/frames'))\n",
        "num_accident = len(filenames_accident)\n",
        "\n",
        "filenames_no_accident = os.listdir (\"GDrive/My Drive/CarCrashDetection/Sources/frames/no_accident\")\n",
        "num_no_accident = len(filenames_no_accident)\n",
        "\n",
        "print (\"Total images with accident \", num_accident)\n",
        "print (\"Total images without accident \", num_no_accident)"
      ],
      "execution_count": 0,
      "outputs": []
    },
    {
      "cell_type": "code",
      "metadata": {
        "id": "kL4_ur5SOC5i",
        "colab_type": "code",
        "colab": {}
      },
      "source": [
        "data_augmentation = 0\n",
        "\n",
        "if (data_augmentation == 1):\n",
        " \n",
        "    PATH_accident = PATH + \"/accident/\"\n",
        "    remove = PATH_accident+\"_flip_*\"  \n",
        "    print(\"Deleting old mirrored images\")\n",
        "    !rm {remove}\n",
        "\n",
        "    print(\"Creating new mirrored images\")\n",
        "    for fn in filenames_accident:\n",
        "        img = mpimg.imread(PATH_accident+fn)\n",
        "        rimg= cv2.flip(img,1)\n",
        "        plt.imsave(\"%s%s%s.png\" % (PATH_accident,\"_flip_\", fn[:-4]), rimg) # saves images to frame folder\n",
        "\n",
        "PATH = 'GDrive/My\\ Drive/CarCrashDetection/Sources/frames'\n",
        "filenames_accident = os.listdir (\"GDrive/My Drive/CarCrashDetection/Sources/frames/accident\")\n",
        "\n",
        "print (os.listdir('GDrive/My Drive/CarCrashDetection/Sources/frames'))\n",
        "num_accident = len(filenames_accident)\n",
        "filenames_no_accident = os.listdir (\"GDrive/My Drive/CarCrashDetection/Sources/frames/no_accident\")\n",
        "num_no_accident = len(filenames_no_accident)\n",
        "\n",
        "print (\"Total images with accident \", num_accident)\n",
        "print (\"Total images without accident \", num_no_accident)"
      ],
      "execution_count": 0,
      "outputs": []
    },
    {
      "cell_type": "code",
      "metadata": {
        "id": "RFMZVG_zOuaa",
        "colab_type": "code",
        "colab": {}
      },
      "source": [
        "percentage_of_train = 0.8    # 80% = 0.8\n",
        "\n",
        "def split_dataset_in_train_and_valid( filenames, percentage):\n",
        "  \n",
        "    total_images = len(filenames)\n",
        "    total_train = int(total_images * percentage_of_train)\n",
        "  \n",
        "    set_train = []\n",
        "  \n",
        "    while (len(set_train) != total_train):     \n",
        "        num_image = random.randrange(total_images)\n",
        "        if num_image not in set_train:\n",
        "            set_train.append(num_image)\n",
        "\n",
        "    set_valid = []\n",
        "    for i in range(total_images):\n",
        "        if i not in set_train:\n",
        "            set_valid.append(i)\n",
        "\n",
        "    images_train =[]\n",
        "    for i in set_train:    \n",
        "        images_train.append(filenames[i])\n",
        "\n",
        "    images_valid =[]\n",
        "    for i in set_valid:    \n",
        "        images_valid.append(filenames[i])\n",
        "\n",
        "    return (images_train, images_valid)"
      ],
      "execution_count": 0,
      "outputs": []
    },
    {
      "cell_type": "code",
      "metadata": {
        "id": "Woh5t9LOPJKX",
        "colab_type": "code",
        "colab": {}
      },
      "source": [
        "accident_train_valid = (split_dataset_in_train_and_valid (filenames_accident , percentage_of_train))\n",
        "no_accident_train_valid = (split_dataset_in_train_and_valid (filenames_no_accident , percentage_of_train))"
      ],
      "execution_count": 0,
      "outputs": []
    },
    {
      "cell_type": "code",
      "metadata": {
        "id": "eHzXC6VGPqoj",
        "colab_type": "code",
        "colab": {}
      },
      "source": [
        "## Copy files from sources to train\n",
        "PATH2 = \"GDrive/My\\ Drive/CarCrashDetection/Dataset/\"\n",
        "\n",
        "## copy accident train set\n",
        "print (\"Copying accident train\")\n",
        "lenght = len (accident_train_valid[0])\n",
        "for i in range(lenght):\n",
        "  src = (\"GDrive/My Drive/CarCrashDetection/Sources/frames/accident/\" + accident_train_valid[0][i])\n",
        "  dst = (\"GDrive/My Drive/CarCrashDetection/Dataset/train/accident/\" + accident_train_valid[0][i])\n",
        "  copyfile(src, dst)\n",
        "  \n",
        "train_accident = !ls {PATH2}train/accident\n",
        "print(f\"Number of train images with accident copied: {len(train_accident)}\")\n",
        "\n",
        "## copy accident valid set\n",
        "print (\"Copying accident valid\")\n",
        "lenght = len (accident_train_valid[1])\n",
        "for i in range(lenght):\n",
        "  src = (\"GDrive/My Drive/CarCrashDetection/Sources/frames/accident/\" + accident_train_valid[1][i])\n",
        "  dst = (\"GDrive/My Drive/CarCrashDetection/Dataset/valid/accident/\" + accident_train_valid[1][i])\n",
        "  copyfile(src, dst)\n",
        "  \n",
        "valid_accident = !ls {PATH2}valid/accident \n",
        "print(f\"Number of valid images with accident copied: {len(valid_accident)}\")\n",
        "\n",
        "## copy no_accident train set\n",
        "print (\"Copying no accident train\")\n",
        "lenght = len (no_accident_train_valid[0])\n",
        "for i in range(lenght):\n",
        "  src = (\"GDrive/My Drive/CarCrashDetection/Sources/frames/no_accident/\" + no_accident_train_valid[0][i])\n",
        "  dst = (\"GDrive/My Drive/CarCrashDetection/Dataset/train/no_accident/\" + no_accident_train_valid[0][i])\n",
        "  copyfile(src, dst)\n",
        "\n",
        "train_no_accident = !ls {PATH2}train/no_accident\n",
        "print(f\"Number of train images with no_accident copied: {len(train_no_accident)}\")\n",
        "\n",
        "## copy accident valid set\n",
        "print (\"Copying no accident valid\")\n",
        "lenght = len (no_accident_train_valid[1])\n",
        "for i in range(lenght):\n",
        "  src = (\"GDrive/My Drive/CarCrashDetection/Sources/frames/no_accident/\" + no_accident_train_valid[1][i])\n",
        "  dst = (\"GDrive/My Drive/CarCrashDetection/Dataset/valid/no_accident/\" + no_accident_train_valid[1][i])\n",
        "  copyfile(src, dst) \n",
        "  \n",
        "valid_no_accident = !ls {PATH2}valid/no_accident\n",
        "print(f\"Number of valid images with no_accident copied: {len(valid_no_accident)}\")"
      ],
      "execution_count": 0,
      "outputs": []
    },
    {
      "cell_type": "code",
      "metadata": {
        "id": "YMPI2LyfP-KK",
        "colab_type": "code",
        "colab": {}
      },
      "source": [
        "# Check if GPU is available\n",
        "import tensorflow as tf\n",
        "device_name = tf.test.gpu_device_name()\n",
        "if device_name != '/device:GPU:0':\n",
        "  raise SystemError('GPU device not found, to activate the GPU go to menu \"Runtime\" and submenu \"Change runtime type\", then change hardware accelerator from None to GPU.')\n",
        "print('Found GPU at: {}'.format(device_name))"
      ],
      "execution_count": 0,
      "outputs": []
    },
    {
      "cell_type": "code",
      "metadata": {
        "id": "j6If_OlcQQ1d",
        "colab_type": "code",
        "colab": {}
      },
      "source": [
        "!pip install --upgrade pip  > /dev/null\n",
        "!pip install scipy==1.0.0 > /dev/null\n",
        "!pip install http://download.pytorch.org/whl/cu75/torch-0.3.0.post4-cp36-cp36m-linux_x86_64.whl  && pip install torchvision\n",
        "#!pip install Pillow==4.0.0 > /dev/null\n",
        "!pip install Pillow==4.1.1 > /dev/null\n",
        "#!pip install PIL  > /dev/null\n",
        "!pip install image  > /dev/null\n",
        "!pip install fastai==0.7.0  > /dev/null\n",
        "!apt update && apt install -y libsm6 libxext6 > /dev/null"
      ],
      "execution_count": 0,
      "outputs": []
    },
    {
      "cell_type": "code",
      "metadata": {
        "id": "LhdceFs7QWv2",
        "colab_type": "code",
        "colab": {}
      },
      "source": [
        "PATH = \"GDrive/My\\ Drive/CarCrashDetection/Dataset/\"\n",
        "!if [ -d 'GDrive/My\\ Drive/CarCrashDetection/Dataset/models' ]; then echo \"Directory models already exist\" ; else mkdir '!mkdir mydrive/CarCrashDetection/Dataset/models' && echo \"Directory models created\"; fi\n",
        "!ls {PATH}"
      ],
      "execution_count": 0,
      "outputs": []
    },
    {
      "cell_type": "code",
      "metadata": {
        "id": "p0-tKNvARmm0",
        "colab_type": "code",
        "colab": {}
      },
      "source": [
        "valid_accident = !ls {PATH}valid/accident \n",
        "valid_no_accident = !ls {PATH}valid/no_accident\n",
        "\n",
        "train_accident = !ls {PATH}train/accident\n",
        "train_no_accident = !ls {PATH}train/no_accident\n",
        "\n",
        "print(f\"Number of valid images with accident: {len(valid_accident)}\")\n",
        "print(f\"Number of valid images with no_accident: {len(valid_no_accident)}\")\n",
        "print(f\"Number of train images with accident: {len(train_accident)}\")\n",
        "print(f\"Number of train images with no_accident: {len(train_no_accident)}\")"
      ],
      "execution_count": 0,
      "outputs": []
    },
    {
      "cell_type": "code",
      "metadata": {
        "id": "OlXKlccYTVmr",
        "colab_type": "code",
        "colab": {}
      },
      "source": [
        "PATH = \"GDrive/My Drive/CarCrashDetection/Dataset/\"\n",
        "\n",
        "# import matplotlib.pyplot as plt\n",
        "\n",
        "# files = !ls {PATH}valid/no_accident | head\n",
        "# img = plt.imread(f'{PATH}valid/no_accident/{files[0]}')\n",
        "\n",
        "# plt.imshow(img);\n",
        "# img.shape"
      ],
      "execution_count": 0,
      "outputs": []
    },
    {
      "cell_type": "code",
      "metadata": {
        "id": "-Tq6jl7fVmkp",
        "colab_type": "code",
        "colab": {}
      },
      "source": [
        "# memory footprint support libraries/code\n",
        "!ln -sf /opt/bin/nvidia-smi /usr/bin/nvidia-smi\n",
        "!pip install gputil  > /dev/null\n",
        "!pip install psutil  > /dev/null\n",
        "!pip install humanize  > /dev/null"
      ],
      "execution_count": 0,
      "outputs": []
    },
    {
      "cell_type": "code",
      "metadata": {
        "id": "qB3JsA-rZi1g",
        "colab_type": "code",
        "colab": {}
      },
      "source": [
        "import psutil\n",
        "import humanize\n",
        "import os\n",
        "import GPUtil as GPU"
      ],
      "execution_count": 0,
      "outputs": []
    },
    {
      "cell_type": "code",
      "metadata": {
        "id": "nIHuQftUZllM",
        "colab_type": "code",
        "outputId": "684f3796-8e70-4de8-bab8-ad56175d85ce",
        "colab": {
          "base_uri": "https://localhost:8080/",
          "height": 50
        }
      },
      "source": [
        "GPUs = GPU.getGPUs()\n",
        "# XXX: only one GPU on Colab and isn't guaranteed\n",
        "gpu = GPUs[0]\n",
        "\n",
        "def printm():\n",
        "  process = psutil.Process(os.getpid())\n",
        "  print(\"Gen RAM Free: \" + humanize.naturalsize( psutil.virtual_memory().available ), \" I Proc size: \" + humanize.naturalsize( process.memory_info().rss))\n",
        "  print('GPU RAM Free: {0:.0f}MB | Used: {1:.0f}MB | Util {2:3.0f}% | Total {3:.0f}MB'.format(gpu.memoryFree, gpu.memoryUsed, gpu.memoryUtil*100, gpu.memoryTotal))\n",
        "printm()"
      ],
      "execution_count": 0,
      "outputs": [
        {
          "output_type": "stream",
          "text": [
            "Gen RAM Free: 12.8 GB  I Proc size: 156.1 MB\n",
            "GPU RAM Free: 11441MB | Used: 0MB | Util   0% | Total 11441MB\n"
          ],
          "name": "stdout"
        }
      ]
    }
  ]
}